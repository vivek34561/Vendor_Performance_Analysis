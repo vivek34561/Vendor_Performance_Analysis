{
 "cells": [
  {
   "cell_type": "code",
   "execution_count": null,
   "id": "9363aa80",
   "metadata": {},
   "outputs": [],
   "source": [
    "import pandas as pd\n",
    "import os\n",
    "from sqlalchemy import create_engine\n",
    "import logging\n",
    "import time\n",
    "logging.basicConfig(\n",
    "    filename = \"logs/ingestion_db.log\",\n",
    "    level = logging.DEBUG,\n",
    "    format = \"%(asctime)s - %(levelname)s - %(message)s\",\n",
    "    filemode = \"a\"\n",
    ")\n",
    "\n",
    "engine = create_engine('sqlite:///inventory.db')\n",
    "\n",
    "def ingest_db(df , table_name , engine):\n",
    "    df.to_sql(table_name , con = engine , if_exists = 'replace' , index = False)\n",
    "    \n",
    "def load_raw_data():\n",
    "    \n",
    "    for file in os.listdir('data'):\n",
    "        start_time = time.time()\n",
    "        if '.csv' in file:\n",
    "            df = pd.read_csv('data/'+file)\n",
    "            print(df.shape)\n",
    "            logging.info(f\"ingestion {file} in db\")\n",
    "            ingest_db(df , file[:-4]  , engine)\n",
    "    end_time = time.time()    \n",
    "    total_time = end_time - start_time\n",
    "    logging.info('Ingestion Complete')\n",
    "    logging.info(f'\\n Total Time Taken: {total_time} minutes')    "
   ]
  },
  {
   "cell_type": "code",
   "execution_count": null,
   "id": "7ff98506",
   "metadata": {},
   "outputs": [],
   "source": []
  },
  {
   "cell_type": "code",
   "execution_count": null,
   "id": "48b66927",
   "metadata": {},
   "outputs": [],
   "source": []
  }
 ],
 "metadata": {
  "kernelspec": {
   "display_name": "vendor_env",
   "language": "python",
   "name": "python3"
  },
  "language_info": {
   "codemirror_mode": {
    "name": "ipython",
    "version": 3
   },
   "file_extension": ".py",
   "mimetype": "text/x-python",
   "name": "python",
   "nbconvert_exporter": "python",
   "pygments_lexer": "ipython3",
   "version": "3.13.5"
  }
 },
 "nbformat": 4,
 "nbformat_minor": 5
}
